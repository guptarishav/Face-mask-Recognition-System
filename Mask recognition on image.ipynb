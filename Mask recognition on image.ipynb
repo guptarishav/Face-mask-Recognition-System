{
 "cells": [
  {
   "cell_type": "code",
   "execution_count": 1,
   "metadata": {},
   "outputs": [],
   "source": [
    "from tensorflow.keras.applications.mobilenet_v2 import preprocess_input\n",
    "from tensorflow.keras.preprocessing.image import img_to_array\n",
    "from tensorflow.keras.models import load_model\n",
    "import numpy as np\n",
    "import cv2\n",
    "import os"
   ]
  },
  {
   "cell_type": "code",
   "execution_count": 10,
   "metadata": {},
   "outputs": [],
   "source": [
    "prototxtPath=os.path.sep.join([r'C:\\Users\\kumar\\mask_detector\\Facedetector','architecture.txt'])\n",
    "weightsPath=os.path.sep.join([r'C:\\Users\\kumar\\mask_detector\\Facedetector','weights.caffemodel'])"
   ]
  },
  {
   "cell_type": "code",
   "execution_count": 11,
   "metadata": {},
   "outputs": [
    {
     "data": {
      "text/plain": [
       "'C:\\\\Users\\\\kumar\\\\mask_detector\\\\Facedetector\\\\architecture.txt'"
      ]
     },
     "execution_count": 11,
     "metadata": {},
     "output_type": "execute_result"
    }
   ],
   "source": [
    "prototxtPath"
   ]
  },
  {
   "cell_type": "code",
   "execution_count": 12,
   "metadata": {},
   "outputs": [
    {
     "data": {
      "text/plain": [
       "'C:\\\\Users\\\\kumar\\\\mask_detector\\\\Facedetector\\\\weights.caffemodel'"
      ]
     },
     "execution_count": 12,
     "metadata": {},
     "output_type": "execute_result"
    }
   ],
   "source": [
    "weightsPath"
   ]
  },
  {
   "cell_type": "code",
   "execution_count": 13,
   "metadata": {},
   "outputs": [],
   "source": [
    "net=cv2.dnn.readNet(prototxtPath,weightsPath)"
   ]
  },
  {
   "cell_type": "code",
   "execution_count": 14,
   "metadata": {},
   "outputs": [],
   "source": [
    "model=load_model(r'C:\\Users\\kumar\\mask_detector\\Transfer_learning')"
   ]
  },
  {
   "cell_type": "code",
   "execution_count": 16,
   "metadata": {},
   "outputs": [],
   "source": [
    "image=cv2.imread(r'C:\\Users\\kumar\\mask_detector\\data\\with_mask\\with_mask_1.jpg')"
   ]
  },
  {
   "cell_type": "code",
   "execution_count": 17,
   "metadata": {},
   "outputs": [
    {
     "data": {
      "text/plain": [
       "array([[[38, 66, 60],\n",
       "        [35, 63, 57],\n",
       "        [32, 59, 50],\n",
       "        ...,\n",
       "        [11, 37, 31],\n",
       "        [18, 41, 36],\n",
       "        [13, 29, 22]],\n",
       "\n",
       "       [[35, 63, 57],\n",
       "        [32, 60, 54],\n",
       "        [31, 58, 49],\n",
       "        ...,\n",
       "        [15, 38, 33],\n",
       "        [21, 44, 36],\n",
       "        [15, 31, 24]],\n",
       "\n",
       "       [[32, 58, 52],\n",
       "        [31, 57, 51],\n",
       "        [31, 55, 47],\n",
       "        ...,\n",
       "        [17, 40, 32],\n",
       "        [24, 45, 37],\n",
       "        [20, 34, 28]],\n",
       "\n",
       "       ...,\n",
       "\n",
       "       [[30, 71, 56],\n",
       "        [31, 72, 57],\n",
       "        [35, 71, 57],\n",
       "        ...,\n",
       "        [12, 12, 18],\n",
       "        [12, 12, 18],\n",
       "        [12, 12, 18]],\n",
       "\n",
       "       [[27, 69, 52],\n",
       "        [28, 70, 53],\n",
       "        [32, 68, 54],\n",
       "        ...,\n",
       "        [13, 12, 21],\n",
       "        [13, 12, 21],\n",
       "        [13, 12, 21]],\n",
       "\n",
       "       [[26, 68, 51],\n",
       "        [27, 69, 52],\n",
       "        [31, 67, 53],\n",
       "        ...,\n",
       "        [13, 12, 21],\n",
       "        [13, 12, 21],\n",
       "        [13, 12, 21]]], dtype=uint8)"
      ]
     },
     "execution_count": 17,
     "metadata": {},
     "output_type": "execute_result"
    }
   ],
   "source": [
    "image"
   ]
  },
  {
   "cell_type": "code",
   "execution_count": 39,
   "metadata": {},
   "outputs": [],
   "source": [
    "(h,w)=image.shape[:2]"
   ]
  },
  {
   "cell_type": "code",
   "execution_count": 40,
   "metadata": {},
   "outputs": [
    {
     "data": {
      "text/plain": [
       "(350, 525)"
      ]
     },
     "execution_count": 40,
     "metadata": {},
     "output_type": "execute_result"
    }
   ],
   "source": [
    "(h,w)"
   ]
  },
  {
   "cell_type": "code",
   "execution_count": 33,
   "metadata": {},
   "outputs": [],
   "source": [
    "blob = cv2.dnn.blobFromImage(image, 1.0, (300, 300))"
   ]
  },
  {
   "cell_type": "code",
   "execution_count": 34,
   "metadata": {},
   "outputs": [
    {
     "data": {
      "text/plain": [
       "array([[[[37., 31., 29., ..., 30., 11., 15.],\n",
       "         [33., 31., 30., ..., 22., 14., 18.],\n",
       "         [30., 30., 30., ..., 10., 17., 24.],\n",
       "         ...,\n",
       "         [31., 36., 35., ..., 11., 11., 11.],\n",
       "         [28., 33., 33., ..., 13., 13., 13.],\n",
       "         [26., 31., 29., ..., 13., 13., 13.]],\n",
       "\n",
       "        [[64., 58., 53., ..., 54., 37., 33.],\n",
       "         [61., 57., 54., ..., 44., 38., 36.],\n",
       "         [56., 54., 54., ..., 30., 39., 40.],\n",
       "         ...,\n",
       "         [72., 72., 68., ..., 12., 11., 11.],\n",
       "         [70., 68., 66., ..., 13., 12., 12.],\n",
       "         [68., 67., 62., ..., 13., 12., 12.]],\n",
       "\n",
       "        [[58., 49., 43., ..., 49., 31., 27.],\n",
       "         [55., 48., 44., ..., 38., 32., 29.],\n",
       "         [50., 46., 45., ..., 22., 32., 33.],\n",
       "         ...,\n",
       "         [57., 58., 57., ..., 16., 17., 17.],\n",
       "         [53., 54., 52., ..., 19., 20., 20.],\n",
       "         [51., 53., 49., ..., 19., 21., 21.]]]], dtype=float32)"
      ]
     },
     "execution_count": 34,
     "metadata": {},
     "output_type": "execute_result"
    }
   ],
   "source": [
    "blob"
   ]
  },
  {
   "cell_type": "code",
   "execution_count": 35,
   "metadata": {},
   "outputs": [
    {
     "data": {
      "text/plain": [
       "(1, 3, 300, 300)"
      ]
     },
     "execution_count": 35,
     "metadata": {},
     "output_type": "execute_result"
    }
   ],
   "source": [
    "blob.shape"
   ]
  },
  {
   "cell_type": "code",
   "execution_count": 36,
   "metadata": {},
   "outputs": [],
   "source": [
    "net.setInput(blob)\n",
    "detections=net.forward()\n"
   ]
  },
  {
   "cell_type": "code",
   "execution_count": 37,
   "metadata": {},
   "outputs": [
    {
     "data": {
      "text/plain": [
       "array([[[[0.        , 1.        , 0.89960504, ..., 0.16264474,\n",
       "          0.6816136 , 0.56650895],\n",
       "         [0.        , 1.        , 0.1274717 , ..., 4.001155  ,\n",
       "          4.83672   , 4.9880867 ],\n",
       "         [0.        , 1.        , 0.12440115, ..., 4.001961  ,\n",
       "          0.8342402 , 4.987373  ],\n",
       "         ...,\n",
       "         [0.        , 0.        , 0.        , ..., 0.        ,\n",
       "          0.        , 0.        ],\n",
       "         [0.        , 0.        , 0.        , ..., 0.        ,\n",
       "          0.        , 0.        ],\n",
       "         [0.        , 0.        , 0.        , ..., 0.        ,\n",
       "          0.        , 0.        ]]]], dtype=float32)"
      ]
     },
     "execution_count": 37,
     "metadata": {},
     "output_type": "execute_result"
    }
   ],
   "source": [
    "detections"
   ]
  },
  {
   "cell_type": "code",
   "execution_count": 38,
   "metadata": {},
   "outputs": [
    {
     "data": {
      "text/plain": [
       "(1, 1, 200, 7)"
      ]
     },
     "execution_count": 38,
     "metadata": {},
     "output_type": "execute_result"
    }
   ],
   "source": [
    "detections.shape"
   ]
  },
  {
   "cell_type": "code",
   "execution_count": 57,
   "metadata": {},
   "outputs": [],
   "source": [
    "\n",
    "#loop over the detections\n",
    "for i in range(0,detections.shape[2]):\n",
    "    confidence=detections[0,0,i,2]\n",
    "    \n",
    "    \n",
    "    if confidence>0.5:\n",
    "        #we need the X,Y coordinates\n",
    "        box=detections[0,0,i,3:7]*np.array([w,h,w,h])\n",
    "        (startX,startY,endX,endY)=box.astype('int')\n",
    "        \n",
    "        #ensure the bounding boxes fall within the dimensions of the frame\n",
    "        (startX,startY)=(max(0,startX),max(0,startY))\n",
    "        (endX,endY)=(min(w-1,endX), min(h-1,endY))\n",
    "        \n",
    "        \n",
    "        #extract the face ROI, convert it from BGR to RGB channel, resize it to 112,112 and preprocess it\n",
    "        face=image[startY:endY, startX:endX]\n",
    "        face=cv2.cvtColor(face,cv2.COLOR_BGR2RGB)\n",
    "        face=cv2.resize(face,(112,112))\n",
    "        face=img_to_array(face)\n",
    "        face=preprocess_input(face)\n",
    "        face=np.expand_dims(face,axis=0)\n",
    "        output=model.predict(face)\n",
    "        \n",
    "        mask=output[0][0]\n",
    "        withoutMask=output[0][1]\n",
    "        \n",
    "        #determine the class label and color we will use to draw the bounding box and text\n",
    "        label='Mask' if mask>withoutMask else 'No Mask'\n",
    "        color=(0,255,0) if label=='Mask' else (0,0,255)\n",
    "        \n",
    "        #include the probability in the label\n",
    "        label=\"{}: {:.2f}%\".format(label,max(mask,withoutMask)*100)\n",
    "        \n",
    "        #display the label and bounding boxes\n",
    "        cv2.putText(image,label,(startX,startY-10),cv2.FONT_HERSHEY_SIMPLEX,0.45,color,2)\n",
    "        cv2.rectangle(image,(startX,startY),(endX,endY),color,2)\n",
    "        \n",
    "        \n",
    "        \n",
    "cv2.imshow(\"OutPut\",image)\n",
    "cv2.waitKey(0)\n",
    "cv2.destroyAllWindows()"
   ]
  },
  {
   "cell_type": "code",
   "execution_count": null,
   "metadata": {},
   "outputs": [],
   "source": []
  }
 ],
 "metadata": {
  "kernelspec": {
   "display_name": "Python 3",
   "language": "python",
   "name": "python3"
  },
  "language_info": {
   "codemirror_mode": {
    "name": "ipython",
    "version": 3
   },
   "file_extension": ".py",
   "mimetype": "text/x-python",
   "name": "python",
   "nbconvert_exporter": "python",
   "pygments_lexer": "ipython3",
   "version": "3.8.3"
  }
 },
 "nbformat": 4,
 "nbformat_minor": 4
}
